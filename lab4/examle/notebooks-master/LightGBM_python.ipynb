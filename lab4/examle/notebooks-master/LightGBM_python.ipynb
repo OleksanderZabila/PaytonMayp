{
 "cells": [
  {
   "cell_type": "code",
   "execution_count": 1,
   "metadata": {},
   "outputs": [
    {
     "name": "stdout",
     "output_type": "stream",
     "text": [
      "Версия LightGBM      :  3.2.1\n",
      "Версия Scikit-Learn  :  0.23.2\n"
     ]
    }
   ],
   "source": [
    "import pandas as pd\n",
    "import numpy as np\n",
    "import matplotlib.pyplot as plt\n",
    "import lightgbm as lgb\n",
    "import sklearn\n",
    "\n",
    "import warnings\n",
    "warnings.filterwarnings(\"ignore\")\n",
    "\n",
    "print(\"Версия LightGBM      : \", lgb.__version__)\n",
    "print(\"Версия Scikit-Learn  : \", sklearn.__version__)"
   ]
  },
  {
   "cell_type": "code",
   "execution_count": 2,
   "metadata": {},
   "outputs": [
    {
     "name": "stdout",
     "output_type": "stream",
     "text": [
      "**Data Set Characteristics:**  \n",
      "\n",
      "    :Number of Instances: 506 \n",
      "\n",
      "    :Number of Attributes: 13 numeric/categorical predictive. Median Value (attribute 14) is usually the target.\n",
      "\n",
      "    :Attribute Information (in order):\n",
      "        - CRIM     per capita crime rate by town\n",
      "        - ZN       proportion of residential land zoned for lots over 25,000 sq.ft.\n",
      "        - INDUS    proportion of non-retail business acres per town\n",
      "        - CHAS     Charles River dummy variable (= 1 if tract bounds river; 0 otherwise)\n",
      "        - NOX      nitric oxides concentration (parts per 10 million)\n",
      "        - RM       average number of rooms per dwelling\n",
      "        - AGE      proportion of owner-occupied units built prior to 1940\n",
      "        - DIS      weighted distances to five Boston employment centres\n",
      "        - RAD      index of accessibility to radial highways\n",
      "        - TAX      full-value property-tax rate per $10,000\n",
      "        - PTRATIO  pupil-teacher ratio by town\n",
      "        - B        1000(Bk - 0.63)^2 where Bk is the proportion of blacks by town\n",
      "        - LSTAT    % lower status of the population\n",
      "        - MEDV     Median value of owner-occupied homes in $1000's\n",
      "\n",
      "    :Missing Attribute Values: None\n",
      "\n"
     ]
    },
    {
     "data": {
      "text/html": [
       "<div>\n",
       "<style scoped>\n",
       "    .dataframe tbody tr th:only-of-type {\n",
       "        vertical-align: middle;\n",
       "    }\n",
       "\n",
       "    .dataframe tbody tr th {\n",
       "        vertical-align: top;\n",
       "    }\n",
       "\n",
       "    .dataframe thead th {\n",
       "        text-align: right;\n",
       "    }\n",
       "</style>\n",
       "<table border=\"1\" class=\"dataframe\">\n",
       "  <thead>\n",
       "    <tr style=\"text-align: right;\">\n",
       "      <th></th>\n",
       "      <th>CRIM</th>\n",
       "      <th>ZN</th>\n",
       "      <th>INDUS</th>\n",
       "      <th>CHAS</th>\n",
       "      <th>NOX</th>\n",
       "      <th>RM</th>\n",
       "      <th>AGE</th>\n",
       "      <th>DIS</th>\n",
       "      <th>RAD</th>\n",
       "      <th>TAX</th>\n",
       "      <th>PTRATIO</th>\n",
       "      <th>B</th>\n",
       "      <th>LSTAT</th>\n",
       "      <th>Price</th>\n",
       "    </tr>\n",
       "  </thead>\n",
       "  <tbody>\n",
       "    <tr>\n",
       "      <th>0</th>\n",
       "      <td>0.00632</td>\n",
       "      <td>18.0</td>\n",
       "      <td>2.31</td>\n",
       "      <td>0.0</td>\n",
       "      <td>0.538</td>\n",
       "      <td>6.575</td>\n",
       "      <td>65.2</td>\n",
       "      <td>4.0900</td>\n",
       "      <td>1.0</td>\n",
       "      <td>296.0</td>\n",
       "      <td>15.3</td>\n",
       "      <td>396.90</td>\n",
       "      <td>4.98</td>\n",
       "      <td>24.0</td>\n",
       "    </tr>\n",
       "    <tr>\n",
       "      <th>1</th>\n",
       "      <td>0.02731</td>\n",
       "      <td>0.0</td>\n",
       "      <td>7.07</td>\n",
       "      <td>0.0</td>\n",
       "      <td>0.469</td>\n",
       "      <td>6.421</td>\n",
       "      <td>78.9</td>\n",
       "      <td>4.9671</td>\n",
       "      <td>2.0</td>\n",
       "      <td>242.0</td>\n",
       "      <td>17.8</td>\n",
       "      <td>396.90</td>\n",
       "      <td>9.14</td>\n",
       "      <td>21.6</td>\n",
       "    </tr>\n",
       "    <tr>\n",
       "      <th>2</th>\n",
       "      <td>0.02729</td>\n",
       "      <td>0.0</td>\n",
       "      <td>7.07</td>\n",
       "      <td>0.0</td>\n",
       "      <td>0.469</td>\n",
       "      <td>7.185</td>\n",
       "      <td>61.1</td>\n",
       "      <td>4.9671</td>\n",
       "      <td>2.0</td>\n",
       "      <td>242.0</td>\n",
       "      <td>17.8</td>\n",
       "      <td>392.83</td>\n",
       "      <td>4.03</td>\n",
       "      <td>34.7</td>\n",
       "    </tr>\n",
       "    <tr>\n",
       "      <th>3</th>\n",
       "      <td>0.03237</td>\n",
       "      <td>0.0</td>\n",
       "      <td>2.18</td>\n",
       "      <td>0.0</td>\n",
       "      <td>0.458</td>\n",
       "      <td>6.998</td>\n",
       "      <td>45.8</td>\n",
       "      <td>6.0622</td>\n",
       "      <td>3.0</td>\n",
       "      <td>222.0</td>\n",
       "      <td>18.7</td>\n",
       "      <td>394.63</td>\n",
       "      <td>2.94</td>\n",
       "      <td>33.4</td>\n",
       "    </tr>\n",
       "    <tr>\n",
       "      <th>4</th>\n",
       "      <td>0.06905</td>\n",
       "      <td>0.0</td>\n",
       "      <td>2.18</td>\n",
       "      <td>0.0</td>\n",
       "      <td>0.458</td>\n",
       "      <td>7.147</td>\n",
       "      <td>54.2</td>\n",
       "      <td>6.0622</td>\n",
       "      <td>3.0</td>\n",
       "      <td>222.0</td>\n",
       "      <td>18.7</td>\n",
       "      <td>396.90</td>\n",
       "      <td>5.33</td>\n",
       "      <td>36.2</td>\n",
       "    </tr>\n",
       "  </tbody>\n",
       "</table>\n",
       "</div>"
      ],
      "text/plain": [
       "      CRIM    ZN  INDUS  CHAS    NOX     RM   AGE     DIS  RAD    TAX  \\\n",
       "0  0.00632  18.0   2.31   0.0  0.538  6.575  65.2  4.0900  1.0  296.0   \n",
       "1  0.02731   0.0   7.07   0.0  0.469  6.421  78.9  4.9671  2.0  242.0   \n",
       "2  0.02729   0.0   7.07   0.0  0.469  7.185  61.1  4.9671  2.0  242.0   \n",
       "3  0.03237   0.0   2.18   0.0  0.458  6.998  45.8  6.0622  3.0  222.0   \n",
       "4  0.06905   0.0   2.18   0.0  0.458  7.147  54.2  6.0622  3.0  222.0   \n",
       "\n",
       "   PTRATIO       B  LSTAT  Price  \n",
       "0     15.3  396.90   4.98   24.0  \n",
       "1     17.8  396.90   9.14   21.6  \n",
       "2     17.8  392.83   4.03   34.7  \n",
       "3     18.7  394.63   2.94   33.4  \n",
       "4     18.7  396.90   5.33   36.2  "
      ]
     },
     "execution_count": 2,
     "metadata": {},
     "output_type": "execute_result"
    }
   ],
   "source": [
    "from sklearn.datasets import load_boston\n",
    "\n",
    "boston = load_boston()\n",
    "\n",
    "for line in boston.DESCR.split(\"\\n\")[5:29]:\n",
    "    print(line)\n",
    "\n",
    "boston_df = pd.DataFrame(data=boston.data, columns = boston.feature_names)\n",
    "boston_df[\"Price\"] = boston.target\n",
    "\n",
    "boston_df.head()"
   ]
  },
  {
   "cell_type": "code",
   "execution_count": 3,
   "metadata": {},
   "outputs": [
    {
     "name": "stdout",
     "output_type": "stream",
     "text": [
      "**Data Set Characteristics:**\n",
      "\n",
      "    :Number of Instances: 569\n",
      "\n",
      "    :Number of Attributes: 30 numeric, predictive attributes and the class\n",
      "\n",
      "    :Attribute Information:\n",
      "        - radius (mean of distances from center to points on the perimeter)\n",
      "        - texture (standard deviation of gray-scale values)\n",
      "        - perimeter\n",
      "        - area\n",
      "        - smoothness (local variation in radius lengths)\n",
      "        - compactness (perimeter^2 / area - 1.0)\n",
      "        - concavity (severity of concave portions of the contour)\n",
      "        - concave points (number of concave portions of the contour)\n",
      "        - symmetry\n",
      "        - fractal dimension (\"coastline approximation\" - 1)\n",
      "\n",
      "        The mean, standard error, and \"worst\" or largest (mean of the three\n",
      "        worst/largest values) of these features were computed for each image,\n",
      "        resulting in 30 features.  For instance, field 0 is Mean Radius, field\n",
      "        10 is Radius SE, field 20 is Worst Radius.\n",
      "\n",
      "        - class:\n",
      "                - WDBC-Malignant\n",
      "                - WDBC-Benign\n"
     ]
    },
    {
     "data": {
      "text/html": [
       "<div>\n",
       "<style scoped>\n",
       "    .dataframe tbody tr th:only-of-type {\n",
       "        vertical-align: middle;\n",
       "    }\n",
       "\n",
       "    .dataframe tbody tr th {\n",
       "        vertical-align: top;\n",
       "    }\n",
       "\n",
       "    .dataframe thead th {\n",
       "        text-align: right;\n",
       "    }\n",
       "</style>\n",
       "<table border=\"1\" class=\"dataframe\">\n",
       "  <thead>\n",
       "    <tr style=\"text-align: right;\">\n",
       "      <th></th>\n",
       "      <th>mean radius</th>\n",
       "      <th>mean texture</th>\n",
       "      <th>mean perimeter</th>\n",
       "      <th>mean area</th>\n",
       "      <th>mean smoothness</th>\n",
       "      <th>mean compactness</th>\n",
       "      <th>mean concavity</th>\n",
       "      <th>mean concave points</th>\n",
       "      <th>mean symmetry</th>\n",
       "      <th>mean fractal dimension</th>\n",
       "      <th>...</th>\n",
       "      <th>worst texture</th>\n",
       "      <th>worst perimeter</th>\n",
       "      <th>worst area</th>\n",
       "      <th>worst smoothness</th>\n",
       "      <th>worst compactness</th>\n",
       "      <th>worst concavity</th>\n",
       "      <th>worst concave points</th>\n",
       "      <th>worst symmetry</th>\n",
       "      <th>worst fractal dimension</th>\n",
       "      <th>TumorType</th>\n",
       "    </tr>\n",
       "  </thead>\n",
       "  <tbody>\n",
       "    <tr>\n",
       "      <th>0</th>\n",
       "      <td>17.99</td>\n",
       "      <td>10.38</td>\n",
       "      <td>122.80</td>\n",
       "      <td>1001.0</td>\n",
       "      <td>0.11840</td>\n",
       "      <td>0.27760</td>\n",
       "      <td>0.3001</td>\n",
       "      <td>0.14710</td>\n",
       "      <td>0.2419</td>\n",
       "      <td>0.07871</td>\n",
       "      <td>...</td>\n",
       "      <td>17.33</td>\n",
       "      <td>184.60</td>\n",
       "      <td>2019.0</td>\n",
       "      <td>0.1622</td>\n",
       "      <td>0.6656</td>\n",
       "      <td>0.7119</td>\n",
       "      <td>0.2654</td>\n",
       "      <td>0.4601</td>\n",
       "      <td>0.11890</td>\n",
       "      <td>0</td>\n",
       "    </tr>\n",
       "    <tr>\n",
       "      <th>1</th>\n",
       "      <td>20.57</td>\n",
       "      <td>17.77</td>\n",
       "      <td>132.90</td>\n",
       "      <td>1326.0</td>\n",
       "      <td>0.08474</td>\n",
       "      <td>0.07864</td>\n",
       "      <td>0.0869</td>\n",
       "      <td>0.07017</td>\n",
       "      <td>0.1812</td>\n",
       "      <td>0.05667</td>\n",
       "      <td>...</td>\n",
       "      <td>23.41</td>\n",
       "      <td>158.80</td>\n",
       "      <td>1956.0</td>\n",
       "      <td>0.1238</td>\n",
       "      <td>0.1866</td>\n",
       "      <td>0.2416</td>\n",
       "      <td>0.1860</td>\n",
       "      <td>0.2750</td>\n",
       "      <td>0.08902</td>\n",
       "      <td>0</td>\n",
       "    </tr>\n",
       "    <tr>\n",
       "      <th>2</th>\n",
       "      <td>19.69</td>\n",
       "      <td>21.25</td>\n",
       "      <td>130.00</td>\n",
       "      <td>1203.0</td>\n",
       "      <td>0.10960</td>\n",
       "      <td>0.15990</td>\n",
       "      <td>0.1974</td>\n",
       "      <td>0.12790</td>\n",
       "      <td>0.2069</td>\n",
       "      <td>0.05999</td>\n",
       "      <td>...</td>\n",
       "      <td>25.53</td>\n",
       "      <td>152.50</td>\n",
       "      <td>1709.0</td>\n",
       "      <td>0.1444</td>\n",
       "      <td>0.4245</td>\n",
       "      <td>0.4504</td>\n",
       "      <td>0.2430</td>\n",
       "      <td>0.3613</td>\n",
       "      <td>0.08758</td>\n",
       "      <td>0</td>\n",
       "    </tr>\n",
       "    <tr>\n",
       "      <th>3</th>\n",
       "      <td>11.42</td>\n",
       "      <td>20.38</td>\n",
       "      <td>77.58</td>\n",
       "      <td>386.1</td>\n",
       "      <td>0.14250</td>\n",
       "      <td>0.28390</td>\n",
       "      <td>0.2414</td>\n",
       "      <td>0.10520</td>\n",
       "      <td>0.2597</td>\n",
       "      <td>0.09744</td>\n",
       "      <td>...</td>\n",
       "      <td>26.50</td>\n",
       "      <td>98.87</td>\n",
       "      <td>567.7</td>\n",
       "      <td>0.2098</td>\n",
       "      <td>0.8663</td>\n",
       "      <td>0.6869</td>\n",
       "      <td>0.2575</td>\n",
       "      <td>0.6638</td>\n",
       "      <td>0.17300</td>\n",
       "      <td>0</td>\n",
       "    </tr>\n",
       "    <tr>\n",
       "      <th>4</th>\n",
       "      <td>20.29</td>\n",
       "      <td>14.34</td>\n",
       "      <td>135.10</td>\n",
       "      <td>1297.0</td>\n",
       "      <td>0.10030</td>\n",
       "      <td>0.13280</td>\n",
       "      <td>0.1980</td>\n",
       "      <td>0.10430</td>\n",
       "      <td>0.1809</td>\n",
       "      <td>0.05883</td>\n",
       "      <td>...</td>\n",
       "      <td>16.67</td>\n",
       "      <td>152.20</td>\n",
       "      <td>1575.0</td>\n",
       "      <td>0.1374</td>\n",
       "      <td>0.2050</td>\n",
       "      <td>0.4000</td>\n",
       "      <td>0.1625</td>\n",
       "      <td>0.2364</td>\n",
       "      <td>0.07678</td>\n",
       "      <td>0</td>\n",
       "    </tr>\n",
       "  </tbody>\n",
       "</table>\n",
       "<p>5 rows × 31 columns</p>\n",
       "</div>"
      ],
      "text/plain": [
       "   mean radius  mean texture  mean perimeter  mean area  mean smoothness  \\\n",
       "0        17.99         10.38          122.80     1001.0          0.11840   \n",
       "1        20.57         17.77          132.90     1326.0          0.08474   \n",
       "2        19.69         21.25          130.00     1203.0          0.10960   \n",
       "3        11.42         20.38           77.58      386.1          0.14250   \n",
       "4        20.29         14.34          135.10     1297.0          0.10030   \n",
       "\n",
       "   mean compactness  mean concavity  mean concave points  mean symmetry  \\\n",
       "0           0.27760          0.3001              0.14710         0.2419   \n",
       "1           0.07864          0.0869              0.07017         0.1812   \n",
       "2           0.15990          0.1974              0.12790         0.2069   \n",
       "3           0.28390          0.2414              0.10520         0.2597   \n",
       "4           0.13280          0.1980              0.10430         0.1809   \n",
       "\n",
       "   mean fractal dimension  ...  worst texture  worst perimeter  worst area  \\\n",
       "0                 0.07871  ...          17.33           184.60      2019.0   \n",
       "1                 0.05667  ...          23.41           158.80      1956.0   \n",
       "2                 0.05999  ...          25.53           152.50      1709.0   \n",
       "3                 0.09744  ...          26.50            98.87       567.7   \n",
       "4                 0.05883  ...          16.67           152.20      1575.0   \n",
       "\n",
       "   worst smoothness  worst compactness  worst concavity  worst concave points  \\\n",
       "0            0.1622             0.6656           0.7119                0.2654   \n",
       "1            0.1238             0.1866           0.2416                0.1860   \n",
       "2            0.1444             0.4245           0.4504                0.2430   \n",
       "3            0.2098             0.8663           0.6869                0.2575   \n",
       "4            0.1374             0.2050           0.4000                0.1625   \n",
       "\n",
       "   worst symmetry  worst fractal dimension  TumorType  \n",
       "0          0.4601                  0.11890          0  \n",
       "1          0.2750                  0.08902          0  \n",
       "2          0.3613                  0.08758          0  \n",
       "3          0.6638                  0.17300          0  \n",
       "4          0.2364                  0.07678          0  \n",
       "\n",
       "[5 rows x 31 columns]"
      ]
     },
     "execution_count": 3,
     "metadata": {},
     "output_type": "execute_result"
    }
   ],
   "source": [
    "from sklearn.datasets import load_breast_cancer\n",
    "\n",
    "breast_cancer = load_breast_cancer()\n",
    "\n",
    "for line in breast_cancer.DESCR.split(\"\\n\")[5:31]:\n",
    "    print(line)\n",
    "\n",
    "breast_cancer_df = pd.DataFrame(data=breast_cancer.data, columns = breast_cancer.feature_names)\n",
    "breast_cancer_df[\"TumorType\"] = breast_cancer.target\n",
    "\n",
    "breast_cancer_df.head()"
   ]
  },
  {
   "cell_type": "code",
   "execution_count": 4,
   "metadata": {},
   "outputs": [
    {
     "name": "stdout",
     "output_type": "stream",
     "text": [
      "**Data Set Characteristics:**\n",
      "\n",
      "    :Number of Instances: 178 (50 in each of three classes)\n",
      "    :Number of Attributes: 13 numeric, predictive attributes and the class\n",
      "    :Attribute Information:\n",
      " \t\t- Alcohol\n",
      " \t\t- Malic acid\n",
      " \t\t- Ash\n",
      "\t\t- Alcalinity of ash  \n",
      " \t\t- Magnesium\n",
      "\t\t- Total phenols\n",
      " \t\t- Flavanoids\n",
      " \t\t- Nonflavanoid phenols\n",
      " \t\t- Proanthocyanins\n",
      "\t\t- Color intensity\n",
      " \t\t- Hue\n",
      " \t\t- OD280/OD315 of diluted wines\n",
      " \t\t- Proline\n",
      "\n",
      "    - class:\n",
      "            - class_0\n",
      "            - class_1\n",
      "            - class_2\n",
      "\t\t\n"
     ]
    },
    {
     "data": {
      "text/html": [
       "<div>\n",
       "<style scoped>\n",
       "    .dataframe tbody tr th:only-of-type {\n",
       "        vertical-align: middle;\n",
       "    }\n",
       "\n",
       "    .dataframe tbody tr th {\n",
       "        vertical-align: top;\n",
       "    }\n",
       "\n",
       "    .dataframe thead th {\n",
       "        text-align: right;\n",
       "    }\n",
       "</style>\n",
       "<table border=\"1\" class=\"dataframe\">\n",
       "  <thead>\n",
       "    <tr style=\"text-align: right;\">\n",
       "      <th></th>\n",
       "      <th>alcohol</th>\n",
       "      <th>malic_acid</th>\n",
       "      <th>ash</th>\n",
       "      <th>alcalinity_of_ash</th>\n",
       "      <th>magnesium</th>\n",
       "      <th>total_phenols</th>\n",
       "      <th>flavanoids</th>\n",
       "      <th>nonflavanoid_phenols</th>\n",
       "      <th>proanthocyanins</th>\n",
       "      <th>color_intensity</th>\n",
       "      <th>hue</th>\n",
       "      <th>od280/od315_of_diluted_wines</th>\n",
       "      <th>proline</th>\n",
       "      <th>WineType</th>\n",
       "    </tr>\n",
       "  </thead>\n",
       "  <tbody>\n",
       "    <tr>\n",
       "      <th>0</th>\n",
       "      <td>14.23</td>\n",
       "      <td>1.71</td>\n",
       "      <td>2.43</td>\n",
       "      <td>15.6</td>\n",
       "      <td>127.0</td>\n",
       "      <td>2.80</td>\n",
       "      <td>3.06</td>\n",
       "      <td>0.28</td>\n",
       "      <td>2.29</td>\n",
       "      <td>5.64</td>\n",
       "      <td>1.04</td>\n",
       "      <td>3.92</td>\n",
       "      <td>1065.0</td>\n",
       "      <td>0</td>\n",
       "    </tr>\n",
       "    <tr>\n",
       "      <th>1</th>\n",
       "      <td>13.20</td>\n",
       "      <td>1.78</td>\n",
       "      <td>2.14</td>\n",
       "      <td>11.2</td>\n",
       "      <td>100.0</td>\n",
       "      <td>2.65</td>\n",
       "      <td>2.76</td>\n",
       "      <td>0.26</td>\n",
       "      <td>1.28</td>\n",
       "      <td>4.38</td>\n",
       "      <td>1.05</td>\n",
       "      <td>3.40</td>\n",
       "      <td>1050.0</td>\n",
       "      <td>0</td>\n",
       "    </tr>\n",
       "    <tr>\n",
       "      <th>2</th>\n",
       "      <td>13.16</td>\n",
       "      <td>2.36</td>\n",
       "      <td>2.67</td>\n",
       "      <td>18.6</td>\n",
       "      <td>101.0</td>\n",
       "      <td>2.80</td>\n",
       "      <td>3.24</td>\n",
       "      <td>0.30</td>\n",
       "      <td>2.81</td>\n",
       "      <td>5.68</td>\n",
       "      <td>1.03</td>\n",
       "      <td>3.17</td>\n",
       "      <td>1185.0</td>\n",
       "      <td>0</td>\n",
       "    </tr>\n",
       "    <tr>\n",
       "      <th>3</th>\n",
       "      <td>14.37</td>\n",
       "      <td>1.95</td>\n",
       "      <td>2.50</td>\n",
       "      <td>16.8</td>\n",
       "      <td>113.0</td>\n",
       "      <td>3.85</td>\n",
       "      <td>3.49</td>\n",
       "      <td>0.24</td>\n",
       "      <td>2.18</td>\n",
       "      <td>7.80</td>\n",
       "      <td>0.86</td>\n",
       "      <td>3.45</td>\n",
       "      <td>1480.0</td>\n",
       "      <td>0</td>\n",
       "    </tr>\n",
       "    <tr>\n",
       "      <th>4</th>\n",
       "      <td>13.24</td>\n",
       "      <td>2.59</td>\n",
       "      <td>2.87</td>\n",
       "      <td>21.0</td>\n",
       "      <td>118.0</td>\n",
       "      <td>2.80</td>\n",
       "      <td>2.69</td>\n",
       "      <td>0.39</td>\n",
       "      <td>1.82</td>\n",
       "      <td>4.32</td>\n",
       "      <td>1.04</td>\n",
       "      <td>2.93</td>\n",
       "      <td>735.0</td>\n",
       "      <td>0</td>\n",
       "    </tr>\n",
       "  </tbody>\n",
       "</table>\n",
       "</div>"
      ],
      "text/plain": [
       "   alcohol  malic_acid   ash  alcalinity_of_ash  magnesium  total_phenols  \\\n",
       "0    14.23        1.71  2.43               15.6      127.0           2.80   \n",
       "1    13.20        1.78  2.14               11.2      100.0           2.65   \n",
       "2    13.16        2.36  2.67               18.6      101.0           2.80   \n",
       "3    14.37        1.95  2.50               16.8      113.0           3.85   \n",
       "4    13.24        2.59  2.87               21.0      118.0           2.80   \n",
       "\n",
       "   flavanoids  nonflavanoid_phenols  proanthocyanins  color_intensity   hue  \\\n",
       "0        3.06                  0.28             2.29             5.64  1.04   \n",
       "1        2.76                  0.26             1.28             4.38  1.05   \n",
       "2        3.24                  0.30             2.81             5.68  1.03   \n",
       "3        3.49                  0.24             2.18             7.80  0.86   \n",
       "4        2.69                  0.39             1.82             4.32  1.04   \n",
       "\n",
       "   od280/od315_of_diluted_wines  proline  WineType  \n",
       "0                          3.92   1065.0         0  \n",
       "1                          3.40   1050.0         0  \n",
       "2                          3.17   1185.0         0  \n",
       "3                          3.45   1480.0         0  \n",
       "4                          2.93    735.0         0  "
      ]
     },
     "execution_count": 4,
     "metadata": {},
     "output_type": "execute_result"
    }
   ],
   "source": [
    "from sklearn.datasets import load_wine\n",
    "\n",
    "wine = load_wine()\n",
    "\n",
    "for line in wine.DESCR.split(\"\\n\")[5:29]:\n",
    "    print(line)\n",
    "\n",
    "wine_df = pd.DataFrame(data=wine.data, columns = wine.feature_names)\n",
    "wine_df[\"WineType\"] = wine.target\n",
    "\n",
    "wine_df.head()"
   ]
  },
  {
   "cell_type": "code",
   "execution_count": 5,
   "metadata": {},
   "outputs": [
    {
     "name": "stdout",
     "output_type": "stream",
     "text": [
      "Размеры Train/Test:  (379, 13) (127, 13) (379,) (127,)\n",
      "[LightGBM] [Warning] Auto-choosing col-wise multi-threading, the overhead of testing was 0.000310 seconds.\n",
      "You can set `force_col_wise=true` to remove the overhead.\n",
      "[LightGBM] [Info] Total Bins 973\n",
      "[LightGBM] [Info] Number of data points in the train set: 379, number of used features: 13\n",
      "[LightGBM] [Info] Start training from score 22.695778\n",
      "[LightGBM] [Warning] No further splits with positive gain, best gain: -inf\n",
      "[1]\tvalid_0's l2: 73.5162\n",
      "[LightGBM] [Warning] No further splits with positive gain, best gain: -inf\n",
      "[2]\tvalid_0's l2: 63.9734\n",
      "[LightGBM] [Warning] No further splits with positive gain, best gain: -inf\n",
      "[3]\tvalid_0's l2: 55.9902\n",
      "[LightGBM] [Warning] No further splits with positive gain, best gain: -inf\n",
      "[4]\tvalid_0's l2: 49.3059\n",
      "[LightGBM] [Warning] No further splits with positive gain, best gain: -inf\n",
      "[5]\tvalid_0's l2: 43.8851\n",
      "[LightGBM] [Warning] No further splits with positive gain, best gain: -inf\n",
      "[6]\tvalid_0's l2: 39.9867\n",
      "[LightGBM] [Warning] No further splits with positive gain, best gain: -inf\n",
      "[7]\tvalid_0's l2: 36.6347\n",
      "[LightGBM] [Warning] No further splits with positive gain, best gain: -inf\n",
      "[8]\tvalid_0's l2: 33.6955\n",
      "[LightGBM] [Warning] No further splits with positive gain, best gain: -inf\n",
      "[9]\tvalid_0's l2: 31.2653\n",
      "[LightGBM] [Warning] No further splits with positive gain, best gain: -inf\n",
      "[10]\tvalid_0's l2: 29.5761\n"
     ]
    }
   ],
   "source": [
    "from sklearn.model_selection import train_test_split\n",
    "\n",
    "X_train, X_test, Y_train, Y_test = train_test_split(boston.data, boston.target)\n",
    "\n",
    "print(\"Размеры Train/Test: \", X_train.shape, X_test.shape, Y_train.shape, Y_test.shape)\n",
    "\n",
    "train_dataset = lgb.Dataset(X_train, Y_train, feature_name=boston.feature_names.tolist())\n",
    "test_dataset = lgb.Dataset(X_test, Y_test, feature_name=boston.feature_names.tolist())\n",
    "\n",
    "booster = lgb.train({\"objective\": \"regression\"},\n",
    "                    train_set=train_dataset, valid_sets=(test_dataset,),\n",
    "                    num_boost_round=10)"
   ]
  },
  {
   "cell_type": "code",
   "execution_count": 6,
   "metadata": {},
   "outputs": [
    {
     "name": "stdout",
     "output_type": "stream",
     "text": [
      "Test  R2 Score : 0.65\n",
      "Train R2 Score : 0.76\n"
     ]
    }
   ],
   "source": [
    "from sklearn.metrics import r2_score\n",
    "\n",
    "test_preds = booster.predict(X_test)\n",
    "train_preds = booster.predict(X_train)\n",
    "\n",
    "print(\"Test  R2 Score : %.2f\"%r2_score(Y_test, test_preds))\n",
    "print(\"Train R2 Score : %.2f\"%r2_score(Y_train, train_preds))"
   ]
  },
  {
   "cell_type": "code",
   "execution_count": 7,
   "metadata": {},
   "outputs": [
    {
     "name": "stdout",
     "output_type": "stream",
     "text": [
      "Размерность:  (127, 10)\n"
     ]
    },
    {
     "data": {
      "text/plain": [
       "array([[ 6,  2,  6, ...,  8,  7,  5],\n",
       "       [ 0, 11,  0, ...,  0,  0,  3],\n",
       "       [ 0, 11, 10, ..., 11, 10, 10],\n",
       "       ...,\n",
       "       [11,  9, 11, ...,  9,  2,  2],\n",
       "       [ 8, 13, 14, ...,  3, 10,  3],\n",
       "       [12, 12, 13, ..., 12, 14, 13]])"
      ]
     },
     "execution_count": 7,
     "metadata": {},
     "output_type": "execute_result"
    }
   ],
   "source": [
    "idxs = booster.predict(X_test, pred_leaf=True)\n",
    "print(\"Размерность: \", idxs.shape)\n",
    "idxs"
   ]
  },
  {
   "cell_type": "code",
   "execution_count": 8,
   "metadata": {},
   "outputs": [
    {
     "name": "stdout",
     "output_type": "stream",
     "text": [
      "Размерность:  (127, 14)\n",
      "\n",
      "Значения Shap для нулевого семпла:  [ 6.08435784e-01 -7.65683856e-03  4.79486169e-02  0.00000000e+00\n",
      " -9.22280435e-01 -2.23337865e+00  5.38478246e-03  9.65280002e-02\n",
      "  1.42292869e-02 -4.42449413e-02  1.95472418e-01 -3.27114251e-02\n",
      " -4.06990009e+00  2.26957784e+01]\n",
      "\n",
      "Предсказания с использованием значений SHAP:  16.353604917321157\n",
      "Предсказания без SHAP:  16.353604917321153\n"
     ]
    }
   ],
   "source": [
    "shap_vals = booster.predict(X_test, pred_contrib=True)\n",
    "\n",
    "print(\"Размерность: \", shap_vals.shape)\n",
    "\n",
    "print(\"\\nЗначения Shap для нулевого семпла: \", shap_vals[0])\n",
    "print(\"\\nПредсказания с использованием значений SHAP: \", shap_vals[0].sum())\n",
    "print(\"Предсказания без SHAP: \", test_preds[0])"
   ]
  },
  {
   "cell_type": "code",
   "execution_count": 9,
   "metadata": {},
   "outputs": [
    {
     "data": {
      "text/plain": [
       "(array([1.89365149e+03, 1.89477997e+02, 1.60890800e+02, 0.00000000e+00,\n",
       "        3.93580769e+03, 8.21278741e+04, 9.33771000e+01, 8.19451504e+02,\n",
       "        5.99732018e+01, 3.01901997e+02, 1.18216750e+03, 1.06316601e+02,\n",
       "        3.62274934e+04]),\n",
       " array([10,  1,  3,  0, 13, 29,  3, 10,  1,  6, 13,  2, 47]))"
      ]
     },
     "execution_count": 9,
     "metadata": {},
     "output_type": "execute_result"
    }
   ],
   "source": [
    "booster.feature_importance(importance_type=\"gain\"), booster.feature_importance(importance_type=\"split\")"
   ]
  },
  {
   "cell_type": "code",
   "execution_count": 10,
   "metadata": {},
   "outputs": [
    {
     "name": "stdout",
     "output_type": "stream",
     "text": [
      "Размеры Train/Test:  (426, 30) (143, 30) (426,) (143,)\n",
      "[1]\tvalid_0's binary_logloss: 0.595597\n",
      "[2]\tvalid_0's binary_logloss: 0.533859\n",
      "[3]\tvalid_0's binary_logloss: 0.482705\n",
      "[4]\tvalid_0's binary_logloss: 0.44175\n",
      "[5]\tvalid_0's binary_logloss: 0.404826\n",
      "[6]\tvalid_0's binary_logloss: 0.37389\n",
      "[7]\tvalid_0's binary_logloss: 0.34501\n",
      "[8]\tvalid_0's binary_logloss: 0.32078\n",
      "[9]\tvalid_0's binary_logloss: 0.299864\n",
      "[10]\tvalid_0's binary_logloss: 0.282976\n",
      "Test Accuracy: 0.93\n",
      "Train Accuracy: 0.97\n"
     ]
    }
   ],
   "source": [
    "X_train, X_test, Y_train, Y_test = train_test_split(breast_cancer.data, breast_cancer.target)\n",
    "\n",
    "print(\"Размеры Train/Test: \", X_train.shape, X_test.shape, Y_train.shape, Y_test.shape)\n",
    "\n",
    "train_dataset = lgb.Dataset(X_train, Y_train, feature_name=breast_cancer.feature_names.tolist())\n",
    "test_dataset = lgb.Dataset(X_test, Y_test, feature_name=breast_cancer.feature_names.tolist())\n",
    "\n",
    "\n",
    "booster = lgb.train({\"objective\": \"binary\", \"verbosity\": -1},\n",
    "                    train_set=train_dataset, valid_sets=(test_dataset,),\n",
    "                    num_boost_round=10)\n",
    "\n",
    "from sklearn.metrics import accuracy_score\n",
    "\n",
    "\n",
    "test_preds = booster.predict(X_test)\n",
    "train_preds = booster.predict(X_train)\n",
    "\n",
    "test_preds = [1 if pred > 0.5 else 0 for pred in test_preds]\n",
    "train_preds = [1 if pred > 0.5 else 0 for pred in train_preds]\n",
    "\n",
    "print(\"Test Accuracy: %.2f\"%accuracy_score(Y_test, test_preds))\n",
    "print(\"Train Accuracy: %.2f\"%accuracy_score(Y_train, train_preds))"
   ]
  },
  {
   "cell_type": "code",
   "execution_count": 11,
   "metadata": {},
   "outputs": [
    {
     "name": "stdout",
     "output_type": "stream",
     "text": [
      "Размеры Train/Test:  (133, 13) (45, 13) (133,) (45,)\n",
      "[1]\tvalid_0's multi_logloss: 1.0045\n",
      "[2]\tvalid_0's multi_logloss: 0.892843\n",
      "[3]\tvalid_0's multi_logloss: 0.792942\n",
      "[4]\tvalid_0's multi_logloss: 0.713834\n",
      "[5]\tvalid_0's multi_logloss: 0.649912\n",
      "[6]\tvalid_0's multi_logloss: 0.595134\n",
      "[7]\tvalid_0's multi_logloss: 0.55074\n",
      "[8]\tvalid_0's multi_logloss: 0.506992\n",
      "[9]\tvalid_0's multi_logloss: 0.472991\n",
      "[10]\tvalid_0's multi_logloss: 0.444638\n",
      "\n",
      "Test Accuracy: 0.91\n",
      "Train Accuracy: 1.00\n"
     ]
    }
   ],
   "source": [
    "from sklearn.model_selection import train_test_split\n",
    "\n",
    "X_train, X_test, Y_train, Y_test = train_test_split(wine.data, wine.target)\n",
    "\n",
    "print(\"Размеры Train/Test: \", X_train.shape, X_test.shape, Y_train.shape, Y_test.shape)\n",
    "\n",
    "train_dataset = lgb.Dataset(X_train, Y_train, feature_name=wine.feature_names)\n",
    "test_dataset = lgb.Dataset(X_test, Y_test, feature_name=wine.feature_names)\n",
    "\n",
    "\n",
    "booster = lgb.train({\"objective\": \"multiclass\", \"num_class\":3, \"verbosity\": -1},\n",
    "                    train_set=train_dataset, valid_sets=(test_dataset,),\n",
    "                    num_boost_round=10)\n",
    "\n",
    "from sklearn.metrics import accuracy_score\n",
    "\n",
    "\n",
    "test_preds = booster.predict(X_test)\n",
    "train_preds = booster.predict(X_train)\n",
    "\n",
    "test_preds = np.argmax(test_preds, axis=1)\n",
    "train_preds = np.argmax(train_preds, axis=1)\n",
    "\n",
    "print(\"\\nTest Accuracy: %.2f\"%accuracy_score(Y_test, test_preds))\n",
    "print(\"Train Accuracy: %.2f\"%accuracy_score(Y_train, train_preds))"
   ]
  },
  {
   "cell_type": "code",
   "execution_count": 12,
   "metadata": {},
   "outputs": [
    {
     "name": "stdout",
     "output_type": "stream",
     "text": [
      "Размеры Train/Test Sizes:  (379, 13) (127, 13) (379,) (127,)\n",
      "[1]\tvalid_0's rmse: 8.02963\tvalid_0's l2: 64.4749\n",
      "[2]\tvalid_0's rmse: 7.45783\tvalid_0's l2: 55.6193\n",
      "[3]\tvalid_0's rmse: 6.92764\tvalid_0's l2: 47.9922\n",
      "[4]\tvalid_0's rmse: 6.47944\tvalid_0's l2: 41.9831\n",
      "[5]\tvalid_0's rmse: 6.08505\tvalid_0's l2: 37.0279\n",
      "[6]\tvalid_0's rmse: 5.74895\tvalid_0's l2: 33.0504\n",
      "[7]\tvalid_0's rmse: 5.40211\tvalid_0's l2: 29.1828\n",
      "[8]\tvalid_0's rmse: 5.17045\tvalid_0's l2: 26.7335\n",
      "[9]\tvalid_0's rmse: 4.97129\tvalid_0's l2: 24.7137\n",
      "[10]\tvalid_0's rmse: 4.76924\tvalid_0's l2: 22.7456\n",
      "\n",
      "Test  R2 Score: 0.68\n",
      "Train R2 Score: 0.74\n"
     ]
    }
   ],
   "source": [
    "from sklearn.model_selection import train_test_split\n",
    "\n",
    "X_train, X_test, Y_train, Y_test = train_test_split(boston.data, boston.target)\n",
    "\n",
    "print(\"Размеры Train/Test Sizes: \", X_train.shape, X_test.shape, Y_train.shape, Y_test.shape)\n",
    "\n",
    "booster = lgb.LGBMModel(objective=\"regression\", n_estimators=10)\n",
    "\n",
    "booster.fit(X_train, Y_train, eval_set=[(X_test, Y_test),], eval_metric=\"rmse\")\n",
    "\n",
    "from sklearn.metrics import r2_score\n",
    "\n",
    "test_preds = booster.predict(X_test)\n",
    "train_preds = booster.predict(X_train)\n",
    "\n",
    "print(\"\\nTest  R2 Score: %.2f\"%r2_score(Y_test, test_preds))\n",
    "print(\"Train R2 Score: %.2f\"%r2_score(Y_train, train_preds))"
   ]
  },
  {
   "cell_type": "code",
   "execution_count": 13,
   "metadata": {},
   "outputs": [
    {
     "name": "stdout",
     "output_type": "stream",
     "text": [
      "Размеры Train/Test Sizes:  (426, 30) (143, 30) (426,) (143,)\n",
      "[1]\tvalid_0's binary_logloss: 0.604156\n",
      "[2]\tvalid_0's binary_logloss: 0.540771\n",
      "[3]\tvalid_0's binary_logloss: 0.48937\n",
      "[4]\tvalid_0's binary_logloss: 0.440767\n",
      "[5]\tvalid_0's binary_logloss: 0.401444\n",
      "[6]\tvalid_0's binary_logloss: 0.365418\n",
      "[7]\tvalid_0's binary_logloss: 0.336999\n",
      "[8]\tvalid_0's binary_logloss: 0.30941\n",
      "[9]\tvalid_0's binary_logloss: 0.284722\n",
      "[10]\tvalid_0's binary_logloss: 0.26341\n",
      "Test  Accuracy: 0.95\n",
      "Train Accuracy: 0.98\n"
     ]
    }
   ],
   "source": [
    "from sklearn.model_selection import train_test_split\n",
    "\n",
    "X_train, X_test, Y_train, Y_test = train_test_split(breast_cancer.data, breast_cancer.target)\n",
    "\n",
    "print(\"Размеры Train/Test Sizes: \", X_train.shape, X_test.shape, Y_train.shape, Y_test.shape)\n",
    "\n",
    "booster = lgb.LGBMModel(objective=\"binary\", n_estimators=10,)\n",
    "\n",
    "booster.fit(X_train, Y_train, eval_set=[(X_test, Y_test),])\n",
    "\n",
    "from sklearn.metrics import accuracy_score\n",
    "\n",
    "test_preds = booster.predict(X_test)\n",
    "train_preds = booster.predict(X_train)\n",
    "\n",
    "test_preds = [1 if pred > 0.5 else 0 for pred in test_preds]\n",
    "train_preds = [1 if pred > 0.5 else 0 for pred in train_preds]\n",
    "\n",
    "print(\"Test  Accuracy: %.2f\"%accuracy_score(Y_test, test_preds))\n",
    "print(\"Train Accuracy: %.2f\"%accuracy_score(Y_train, train_preds))"
   ]
  },
  {
   "cell_type": "code",
   "execution_count": 14,
   "metadata": {},
   "outputs": [
    {
     "name": "stdout",
     "output_type": "stream",
     "text": [
      "Размеры Train/Test Sizes:  (379, 13) (127, 13) (379,) (127,)\n",
      "[1]\tvalid_0's rmse: 8.74865\tvalid_0's l2: 76.5389\tvalid_0's l1: 6.41991\n",
      "[2]\tvalid_0's rmse: 8.17666\tvalid_0's l2: 66.8577\tvalid_0's l1: 5.99106\n",
      "[3]\tvalid_0's rmse: 7.67456\tvalid_0's l2: 58.8988\tvalid_0's l1: 5.59962\n",
      "[4]\tvalid_0's rmse: 7.23948\tvalid_0's l2: 52.41\tvalid_0's l1: 5.2527\n",
      "[5]\tvalid_0's rmse: 6.85127\tvalid_0's l2: 46.9399\tvalid_0's l1: 4.95957\n",
      "[6]\tvalid_0's rmse: 6.50792\tvalid_0's l2: 42.353\tvalid_0's l1: 4.68955\n",
      "[7]\tvalid_0's rmse: 6.22305\tvalid_0's l2: 38.7263\tvalid_0's l1: 4.47693\n",
      "[8]\tvalid_0's rmse: 5.9373\tvalid_0's l2: 35.2515\tvalid_0's l1: 4.23934\n",
      "[9]\tvalid_0's rmse: 5.74497\tvalid_0's l2: 33.0047\tvalid_0's l1: 4.07843\n",
      "[10]\tvalid_0's rmse: 5.52914\tvalid_0's l2: 30.5714\tvalid_0's l1: 3.90271\n",
      "Test  R2 Score: 0.75\n",
      "Train R2 Score: 0.65\n"
     ]
    }
   ],
   "source": [
    "from sklearn.model_selection import train_test_split\n",
    "\n",
    "X_train, X_test, Y_train, Y_test = train_test_split(boston.data, boston.target)\n",
    "\n",
    "print(\"Размеры Train/Test Sizes: \", X_train.shape, X_test.shape, Y_train.shape, Y_test.shape)\n",
    "\n",
    "booster = lgb.LGBMRegressor(objective=\"regression_l2\", n_estimators=10,)\n",
    "\n",
    "booster.fit(X_train, Y_train, eval_set=[(X_test, Y_test),], eval_metric=[\"rmse\", \"l2\", \"l1\"])\n",
    "\n",
    "print(\"Test  R2 Score: %.2f\"%booster.score(X_train, Y_train))\n",
    "print(\"Train R2 Score: %.2f\"%booster.score(X_test, Y_test))"
   ]
  },
  {
   "cell_type": "code",
   "execution_count": 15,
   "metadata": {},
   "outputs": [
    {
     "name": "stdout",
     "output_type": "stream",
     "text": [
      "Размеры Train/Test:  (426, 30) (143, 30) (426,) (143,)\n",
      "[1]\tvalid_0's binary_logloss: 0.572407\n",
      "[2]\tvalid_0's binary_logloss: 0.511454\n",
      "[3]\tvalid_0's binary_logloss: 0.464948\n",
      "[4]\tvalid_0's binary_logloss: 0.422592\n",
      "[5]\tvalid_0's binary_logloss: 0.389265\n",
      "[6]\tvalid_0's binary_logloss: 0.36136\n",
      "[7]\tvalid_0's binary_logloss: 0.333443\n",
      "[8]\tvalid_0's binary_logloss: 0.312657\n",
      "[9]\tvalid_0's binary_logloss: 0.291259\n",
      "[10]\tvalid_0's binary_logloss: 0.275733\n",
      "Test  Accuracy: 0.94\n",
      "Train Accuracy: 0.98\n"
     ]
    }
   ],
   "source": [
    "from sklearn.model_selection import train_test_split\n",
    "\n",
    "X_train, X_test, Y_train, Y_test = train_test_split(breast_cancer.data, breast_cancer.target)\n",
    "\n",
    "print(\"Размеры Train/Test: \", X_train.shape, X_test.shape, Y_train.shape, Y_test.shape)\n",
    "\n",
    "booster = lgb.LGBMClassifier(objective=\"binary\", n_estimators=10)\n",
    "\n",
    "booster.fit(X_train, Y_train, eval_set=[(X_test, Y_test),])\n",
    "\n",
    "print(\"Test  Accuracy: %.2f\"%booster.score(X_test, Y_test))\n",
    "print(\"Train Accuracy: %.2f\"%booster.score(X_train, Y_train))"
   ]
  },
  {
   "cell_type": "code",
   "execution_count": 16,
   "metadata": {},
   "outputs": [
    {
     "name": "stdout",
     "output_type": "stream",
     "text": [
      "Размеры Train/Test:  (133, 13) (45, 13) (133,) (45,)\n",
      "[1]\tvalid_0's multi_logloss: 0.952574\n",
      "[2]\tvalid_0's multi_logloss: 0.852091\n",
      "[3]\tvalid_0's multi_logloss: 0.775938\n",
      "[4]\tvalid_0's multi_logloss: 0.714012\n",
      "[5]\tvalid_0's multi_logloss: 0.669557\n",
      "[6]\tvalid_0's multi_logloss: 0.618971\n",
      "[7]\tvalid_0's multi_logloss: 0.574911\n",
      "[8]\tvalid_0's multi_logloss: 0.52518\n",
      "[9]\tvalid_0's multi_logloss: 0.498958\n",
      "[10]\tvalid_0's multi_logloss: 0.461803\n",
      "Test  Accuracy: 0.93\n",
      "Train Accuracy: 1.00\n"
     ]
    }
   ],
   "source": [
    "from sklearn.model_selection import train_test_split\n",
    "\n",
    "X_train, X_test, Y_train, Y_test = train_test_split(wine.data, wine.target)\n",
    "\n",
    "print(\"Размеры Train/Test: \", X_train.shape, X_test.shape, Y_train.shape, Y_test.shape)\n",
    "\n",
    "booster = lgb.LGBMClassifier(objective=\"multiclassova\", n_estimators=10, num_class=3)\n",
    "\n",
    "booster.fit(X_train, Y_train, eval_set=[(X_test, Y_test),])\n",
    "\n",
    "print(\"Test  Accuracy: %.2f\"%booster.score(X_test, Y_test))\n",
    "print(\"Train Accuracy: %.2f\"%booster.score(X_train, Y_train))"
   ]
  },
  {
   "cell_type": "code",
   "execution_count": 17,
   "metadata": {},
   "outputs": [
    {
     "data": {
      "text/plain": [
       "<lightgbm.basic.Booster at 0x18d0fcdaa30>"
      ]
     },
     "execution_count": 17,
     "metadata": {},
     "output_type": "execute_result"
    }
   ],
   "source": [
    "from sklearn.model_selection import train_test_split\n",
    "\n",
    "X_train, X_test, Y_train, Y_test = train_test_split(boston.data, boston.target)\n",
    "\n",
    "train_dataset = lgb.Dataset(X_train, Y_train, feature_name=boston.feature_names.tolist())\n",
    "test_dataset = lgb.Dataset(X_test, Y_test, feature_name=boston.feature_names.tolist())\n",
    "\n",
    "booster = lgb.train({\"objective\": \"regression\", \"verbosity\": -1},\n",
    "                    train_set=train_dataset, valid_sets=(test_dataset,),\n",
    "                    verbose_eval=False,\n",
    "                    feature_name=boston.feature_names.tolist(),\n",
    "                    num_boost_round=10)\n",
    "\n",
    "booster.save_model(\"lgb.model\")"
   ]
  },
  {
   "cell_type": "code",
   "execution_count": 18,
   "metadata": {},
   "outputs": [
    {
     "name": "stdout",
     "output_type": "stream",
     "text": [
      "Test  R2 Score: 0.66\n",
      "Train R2 Score: 0.76\n"
     ]
    }
   ],
   "source": [
    "loaded_booster = lgb.Booster(model_file=\"lgb.model\")\n",
    "test_preds = loaded_booster.predict(X_test)\n",
    "train_preds = loaded_booster.predict(X_train)\n",
    "\n",
    "print(\"Test  R2 Score: %.2f\"%r2_score(Y_test, test_preds))\n",
    "print(\"Train R2 Score: %.2f\"%r2_score(Y_train, train_preds))"
   ]
  },
  {
   "cell_type": "code",
   "execution_count": 19,
   "metadata": {},
   "outputs": [
    {
     "name": "stdout",
     "output_type": "stream",
     "text": [
      "[1]\tcv_agg's binary_logloss: 0.58516 + 0.00642658\n",
      "[2]\tcv_agg's binary_logloss: 0.531231 + 0.0121003\n",
      "[3]\tcv_agg's binary_logloss: 0.489205 + 0.0118355\n",
      "[4]\tcv_agg's binary_logloss: 0.453118 + 0.0169861\n",
      "[5]\tcv_agg's binary_logloss: 0.422097 + 0.0210827\n",
      "[6]\tcv_agg's binary_logloss: 0.397747 + 0.0258908\n",
      "[7]\tcv_agg's binary_logloss: 0.372227 + 0.029874\n",
      "[8]\tcv_agg's binary_logloss: 0.354213 + 0.0309127\n",
      "[9]\tcv_agg's binary_logloss: 0.334104 + 0.0341393\n",
      "[10]\tcv_agg's binary_logloss: 0.319448 + 0.0384495\n",
      "[1]\tcv_agg's auc: 0.943333 + 0.0664998\tcv_agg's average_precision: 0.951515 + 0.057189\n",
      "[2]\tcv_agg's auc: 0.936667 + 0.0825967\tcv_agg's average_precision: 0.956955 + 0.0545725\n",
      "[3]\tcv_agg's auc: 0.94 + 0.0848528\tcv_agg's average_precision: 0.956044 + 0.0621635\n",
      "[4]\tcv_agg's auc: 0.94 + 0.0848528\tcv_agg's average_precision: 0.95271 + 0.0668775\n",
      "[5]\tcv_agg's auc: 0.94 + 0.0848528\tcv_agg's average_precision: 0.951599 + 0.0684489\n",
      "[6]\tcv_agg's auc: 0.94 + 0.0848528\tcv_agg's average_precision: 0.951467 + 0.068636\n",
      "[7]\tcv_agg's auc: 0.94 + 0.0848528\tcv_agg's average_precision: 0.952578 + 0.0670646\n",
      "[8]\tcv_agg's auc: 0.933333 + 0.0942809\tcv_agg's average_precision: 0.933266 + 0.0943761\n",
      "[9]\tcv_agg's auc: 0.933333 + 0.0942809\tcv_agg's average_precision: 0.933266 + 0.0943761\n",
      "[10]\tcv_agg's auc: 0.94 + 0.0848528\tcv_agg's average_precision: 0.949933 + 0.0708059\n",
      "\n",
      "auc-mean  :  [0.9433333333333334, 0.9366666666666665, 0.94, 0.94, 0.94, 0.94, 0.94, 0.9333333333333332, 0.9333333333333332, 0.94]\n",
      "\n",
      "auc-stdv  :  [0.06649979114420002, 0.0825967446224258, 0.08485281374238572, 0.08485281374238572, 0.08485281374238572, 0.08485281374238572, 0.08485281374238572, 0.09428090415820632, 0.09428090415820632, 0.08485281374238572]\n",
      "\n",
      "average_precision-mean  :  [0.9515151515151515, 0.9569552669552669, 0.9560437710437709, 0.9527104377104377, 0.9515993265993266, 0.9514670514670515, 0.9525781625781625, 0.9332659932659934, 0.9332659932659934, 0.94993265993266]\n",
      "\n",
      "average_precision-stdv  :  [0.057189025470111, 0.054572547994511035, 0.06216349514067596, 0.06687754034858628, 0.06844888875122304, 0.06863595403725128, 0.06706460563461453, 0.0943761373947297, 0.0943761373947297, 0.07080591135517826]\n",
      "\n",
      "cvbooster  :  <lightgbm.engine.CVBooster object at 0x0000018D0FCF4E20>\n"
     ]
    }
   ],
   "source": [
    "from sklearn.model_selection import StratifiedShuffleSplit\n",
    "\n",
    "\n",
    "X_train, X_test, Y_train, Y_test = train_test_split(breast_cancer.data, breast_cancer.target)\n",
    "\n",
    "train_dataset = lgb.Dataset(X_train, Y_train, feature_name=breast_cancer.feature_names.tolist())\n",
    "test_dataset = lgb.Dataset(X_test, Y_test, feature_name=breast_cancer.feature_names.tolist())\n",
    "\n",
    "lgb.cv({\"objective\": \"binary\", \"verbosity\": -1},\n",
    "       train_set=test_dataset, num_boost_round=10,\n",
    "       nfold=5, stratified=True, shuffle=True,\n",
    "       verbose_eval=True)\n",
    "\n",
    "cv_output = lgb.cv({\"objective\": \"binary\", \"verbosity\": -1},\n",
    "                   train_set=test_dataset, num_boost_round=10,\n",
    "                   metrics=[\"auc\", \"average_precision\"],\n",
    "                   folds=StratifiedShuffleSplit(n_splits=3),\n",
    "                   verbose_eval=True,\n",
    "                   return_cvbooster=True)\n",
    "\n",
    "for key, val in cv_output.items():\n",
    "    print(\"\\n\" + key, \" : \", val)"
   ]
  },
  {
   "cell_type": "code",
   "execution_count": 20,
   "metadata": {},
   "outputs": [
    {
     "data": {
      "image/png": "[encoded data removed]",
      "text/plain": [
       "<Figure size 576x432 with 1 Axes>"
      ]
     },
     "metadata": {
      "needs_background": "light"
     },
     "output_type": "display_data"
    }
   ],
   "source": [
    "lgb.plot_importance(booster, figsize=(8,6));"
   ]
  },
  {
   "cell_type": "code",
   "execution_count": 21,
   "metadata": {},
   "outputs": [
    {
     "name": "stdout",
     "output_type": "stream",
     "text": [
      "[1]\tValidation Set's rmse: 7.92565\tValidation Set's l2: 62.816\n",
      "[2]\tValidation Set's rmse: 7.43199\tValidation Set's l2: 55.2344\n",
      "[3]\tValidation Set's rmse: 7.00344\tValidation Set's l2: 49.0482\n",
      "[4]\tValidation Set's rmse: 6.62963\tValidation Set's l2: 43.952\n",
      "[5]\tValidation Set's rmse: 6.26432\tValidation Set's l2: 39.2417\n",
      "[6]\tValidation Set's rmse: 5.96457\tValidation Set's l2: 35.576\n",
      "[7]\tValidation Set's rmse: 5.71239\tValidation Set's l2: 32.6314\n",
      "[8]\tValidation Set's rmse: 5.48724\tValidation Set's l2: 30.1098\n",
      "[9]\tValidation Set's rmse: 5.28215\tValidation Set's l2: 27.9011\n",
      "[10]\tValidation Set's rmse: 5.13839\tValidation Set's l2: 26.403\n"
     ]
    },
    {
     "data": {
      "image/png": "[encoded data removed]",
      "text/plain": [
       "<Figure size 576x432 with 1 Axes>"
      ]
     },
     "metadata": {
      "needs_background": "light"
     },
     "output_type": "display_data"
    }
   ],
   "source": [
    "X_train, X_test, Y_train, Y_test = train_test_split(boston.data, boston.target)\n",
    "booster = lgb.LGBMModel(objective=\"regression\", n_estimators=10,)\n",
    "booster.fit(X_train, Y_train,\n",
    "            eval_set=[(X_test, Y_test),], eval_metric=\"rmse\", eval_names = [\"Validation Set\"],\n",
    "            feature_name=boston.feature_names.tolist()\n",
    "           )\n",
    "\n",
    "lgb.plot_metric(booster, figsize=(8,6));"
   ]
  },
  {
   "cell_type": "code",
   "execution_count": 22,
   "metadata": {},
   "outputs": [
    {
     "data": {
      "image/png": "[encoded data removed]",
      "text/plain": [
       "<Figure size 576x432 with 1 Axes>"
      ]
     },
     "metadata": {
      "needs_background": "light"
     },
     "output_type": "display_data"
    }
   ],
   "source": [
    "lgb.plot_split_value_histogram(booster, feature=\"LSTAT\", figsize=(8,6));"
   ]
  },
  {
   "cell_type": "code",
   "execution_count": 23,
   "metadata": {},
   "outputs": [
    {
     "data": {
      "image/png": "[encoded data removed]",
      "text/plain": [
       "<Figure size 1440x864 with 1 Axes>"
      ]
     },
     "metadata": {
      "needs_background": "light"
     },
     "output_type": "display_data"
    }
   ],
   "source": [
    "lgb.plot_tree(booster, tree_index = 1, figsize=(20,12));"
   ]
  },
  {
   "cell_type": "code",
   "execution_count": 24,
   "metadata": {},
   "outputs": [
    {
     "name": "stdout",
     "output_type": "stream",
     "text": [
      "Размеры Train/Test:  (426, 30) (143, 30) (426,) (143,)\n",
      "[1]\tvalid_0's auc: 0.965699\n",
      "Training until validation scores don't improve for 3 rounds\n",
      "[2]\tvalid_0's auc: 0.984194\n",
      "[3]\tvalid_0's auc: 0.981935\n",
      "[4]\tvalid_0's auc: 0.981613\n",
      "[5]\tvalid_0's auc: 0.979032\n",
      "Early stopping, best iteration is:\n",
      "[2]\tvalid_0's auc: 0.984194\n",
      "Test  Accuracy: 0.66\n",
      "Train Accuracy: 0.62\n"
     ]
    }
   ],
   "source": [
    "from sklearn.model_selection import train_test_split\n",
    "\n",
    "X_train, X_test, Y_train, Y_test = train_test_split(breast_cancer.data, breast_cancer.target)\n",
    "\n",
    "print(\"Размеры Train/Test: \", X_train.shape, X_test.shape, Y_train.shape, Y_test.shape)\n",
    "\n",
    "booster = lgb.LGBMModel(objective=\"binary\", n_estimators=100, metric=\"auc\")\n",
    "\n",
    "booster.fit(X_train, Y_train,\n",
    "            eval_set=[(X_test, Y_test),],\n",
    "            early_stopping_rounds=3)\n",
    "\n",
    "from sklearn.metrics import accuracy_score\n",
    "\n",
    "test_preds = booster.predict(X_test)\n",
    "train_preds = booster.predict(X_train)\n",
    "\n",
    "test_preds = [1 if pred > 0.5 else 0 for pred in test_preds]\n",
    "train_preds = [1 if pred > 0.5 else 0 for pred in train_preds]\n",
    "\n",
    "print(\"Test  Accuracy: %.2f\"%accuracy_score(Y_test, test_preds))\n",
    "print(\"Train Accuracy: %.2f\"%accuracy_score(Y_train, train_preds))"
   ]
  },
  {
   "cell_type": "code",
   "execution_count": 25,
   "metadata": {},
   "outputs": [
    {
     "name": "stdout",
     "output_type": "stream",
     "text": [
      "Размеры Train/Test:  (426, 30) (143, 30) (426,) (143,)\n",
      "[1]\tvalid_0's auc: 0.970012\n",
      "Training until validation scores don't improve for 3 rounds\n",
      "[2]\tvalid_0's auc: 0.977968\n",
      "[3]\tvalid_0's auc: 0.977866\n",
      "[4]\tvalid_0's auc: 0.975112\n",
      "[5]\tvalid_0's auc: 0.975724\n",
      "Early stopping, best iteration is:\n",
      "[2]\tvalid_0's auc: 0.977968\n",
      "\n",
      "Test  Accuracy: 0.60\n",
      "Train Accuracy: 0.64\n"
     ]
    }
   ],
   "source": [
    "from sklearn.model_selection import train_test_split\n",
    "\n",
    "X_train, X_test, Y_train, Y_test = train_test_split(breast_cancer.data, breast_cancer.target)\n",
    "\n",
    "print(\"Размеры Train/Test: \", X_train.shape, X_test.shape, Y_train.shape, Y_test.shape)\n",
    "\n",
    "booster = lgb.LGBMModel(objective=\"binary\", n_estimators=100, metric=\"auc\")\n",
    "\n",
    "booster.fit(X_train, Y_train,\n",
    "            eval_set=[(X_test, Y_test),],\n",
    "            callbacks=[lgb.early_stopping(3)]\n",
    "            )\n",
    "\n",
    "from sklearn.metrics import accuracy_score\n",
    "\n",
    "test_preds = booster.predict(X_test)\n",
    "train_preds = booster.predict(X_train)\n",
    "\n",
    "test_preds = [1 if pred > 0.5 else 0 for pred in test_preds]\n",
    "train_preds = [1 if pred > 0.5 else 0 for pred in train_preds]\n",
    "\n",
    "print(\"\\nTest  Accuracy: %.2f\"%accuracy_score(Y_test, test_preds))\n",
    "print(\"Train Accuracy: %.2f\"%accuracy_score(Y_train, train_preds))"
   ]
  },
  {
   "cell_type": "code",
   "execution_count": 26,
   "metadata": {},
   "outputs": [
    {
     "name": "stdout",
     "output_type": "stream",
     "text": [
      "[1]\tvalid_0's rmse: 7.50225\n",
      "[2]\tvalid_0's rmse: 7.01989\n",
      "[3]\tvalid_0's rmse: 6.58246\n",
      "[4]\tvalid_0's rmse: 6.18581\n",
      "[5]\tvalid_0's rmse: 5.83873\n",
      "[6]\tvalid_0's rmse: 5.47166\n",
      "[7]\tvalid_0's rmse: 5.19667\n",
      "[8]\tvalid_0's rmse: 4.96259\n",
      "[9]\tvalid_0's rmse: 4.69168\n",
      "[10]\tvalid_0's rmse: 4.51653\n"
     ]
    }
   ],
   "source": [
    "X_train, X_test, Y_train, Y_test = train_test_split(boston.data, boston.target, train_size=0.90, random_state=42)\n",
    "\n",
    "train_dataset = lgb.Dataset(X_train, Y_train, feature_name=boston.feature_names.tolist())\n",
    "test_dataset = lgb.Dataset(X_test, Y_test, feature_name=boston.feature_names.tolist())\n",
    "\n",
    "booster = lgb.train({\"objective\": \"regression\", \"verbosity\": -1, \"metric\": \"rmse\",\n",
    "                    'interaction_constraints':[[0,1,2,11,12], [3, 4],[6,10], [5,9], [7,8]]},\n",
    "                    train_set=train_dataset, valid_sets=(test_dataset,),\n",
    "                    num_boost_round=10)"
   ]
  },
  {
   "cell_type": "code",
   "execution_count": 27,
   "metadata": {},
   "outputs": [
    {
     "name": "stdout",
     "output_type": "stream",
     "text": [
      "[1]\tvalid_0's rmse: 7.50077\n",
      "[2]\tvalid_0's rmse: 7.01013\n",
      "[3]\tvalid_0's rmse: 6.57254\n",
      "[4]\tvalid_0's rmse: 6.19802\n",
      "[5]\tvalid_0's rmse: 5.8771\n",
      "[6]\tvalid_0's rmse: 5.59538\n",
      "[7]\tvalid_0's rmse: 5.35168\n",
      "[8]\tvalid_0's rmse: 5.15228\n",
      "[9]\tvalid_0's rmse: 4.95664\n",
      "[10]\tvalid_0's rmse: 4.81777\n"
     ]
    }
   ],
   "source": [
    "booster = lgb.train({\"objective\": \"regression\", \"verbosity\": -1, \"metric\": \"rmse\",\n",
    "                    'monotone_constraints':(1,0,1,-1,1,0,1,0,-1,1,1, -1, 1)},\n",
    "                    train_set=train_dataset, valid_sets=(test_dataset,),\n",
    "                    num_boost_round=10)"
   ]
  },
  {
   "cell_type": "code",
   "execution_count": 28,
   "metadata": {},
   "outputs": [],
   "source": [
    "def first_grad(predt, dmat):\n",
    "    '''Вычисли первую производную для MSE.'''\n",
    "    y = dmat.get_label() if isinstance(dmat, lgb.Dataset) else dmat\n",
    "    return 2*(y-predt)\n",
    "\n",
    "def second_grad(predt, dmat):\n",
    "    '''Вычисли вторую производную для MSE.'''\n",
    "    y = dmat.get_label() if isinstance(dmat, lgb.Dataset) else dmat\n",
    "    return [1] * len(predt)\n",
    "\n",
    "def mean_sqaured_error(predt, dmat):\n",
    "    ''''Функция MSE.'''\n",
    "    predt[predt < -1] = -1 + 1e-6\n",
    "    grad = first_grad(predt, dmat)\n",
    "    hess = second_grad(predt, dmat)\n",
    "    return grad, hess"
   ]
  },
  {
   "cell_type": "code",
   "execution_count": 29,
   "metadata": {},
   "outputs": [
    {
     "name": "stdout",
     "output_type": "stream",
     "text": [
      "[1]\tvalid_0's rmse: 18.1052\n",
      "[2]\tvalid_0's rmse: 14.5847\n",
      "[3]\tvalid_0's rmse: 11.7345\n",
      "[4]\tvalid_0's rmse: 9.5314\n",
      "[5]\tvalid_0's rmse: 7.78258\n",
      "[6]\tvalid_0's rmse: 6.50828\n",
      "[7]\tvalid_0's rmse: 5.56412\n",
      "[8]\tvalid_0's rmse: 4.73723\n",
      "[9]\tvalid_0's rmse: 4.1203\n",
      "[10]\tvalid_0's rmse: 3.73135\n",
      "Test  R2 Score: 0.78\n",
      "Train R2 Score: 0.82\n"
     ]
    }
   ],
   "source": [
    "booster = lgb.LGBMModel(objective=mean_sqaured_error, n_estimators=10,)\n",
    "booster.fit(X_train, Y_train, eval_set=[(X_test, Y_test),], eval_metric=\"rmse\")\n",
    "\n",
    "test_preds = booster.predict(X_test)\n",
    "train_preds = booster.predict(X_train)\n",
    "\n",
    "print(\"Test  R2 Score: %.2f\"%r2_score(Y_test, test_preds))\n",
    "print(\"Train R2 Score: %.2f\"%r2_score(Y_train, train_preds))"
   ]
  },
  {
   "cell_type": "code",
   "execution_count": 30,
   "metadata": {},
   "outputs": [
    {
     "name": "stdout",
     "output_type": "stream",
     "text": [
      "[1]\tvalid_0's rmse: 7.40798\tvalid_0's MAE: -74.3941\n",
      "[2]\tvalid_0's rmse: 6.83504\tvalid_0's MAE: -68.5244\n",
      "[3]\tvalid_0's rmse: 6.32897\tvalid_0's MAE: -63.4968\n",
      "[4]\tvalid_0's rmse: 5.90259\tvalid_0's MAE: -59.304\n",
      "[5]\tvalid_0's rmse: 5.53393\tvalid_0's MAE: -55.712\n",
      "[6]\tvalid_0's rmse: 5.17631\tvalid_0's MAE: -52.3329\n",
      "[7]\tvalid_0's rmse: 4.87576\tvalid_0's MAE: -48.2586\n",
      "[8]\tvalid_0's rmse: 4.62314\tvalid_0's MAE: -46.1631\n",
      "[9]\tvalid_0's rmse: 4.38363\tvalid_0's MAE: -41.8425\n",
      "[10]\tvalid_0's rmse: 4.2398\tvalid_0's MAE: -39.1324\n",
      "Test  R2 Score: 0.71\n",
      "Train R2 Score: 0.76\n"
     ]
    }
   ],
   "source": [
    "def mean_absolute_error(preds, dmat):\n",
    "    actuals = dmat.get_label() if isinstance(dmat, lgb.Dataset) else dmat\n",
    "    err = (actuals - preds).sum()\n",
    "    is_higher_better = False\n",
    "    return \"MAE\", err, is_higher_better\n",
    "\n",
    "booster = lgb.train({\"objective\": \"regression\", \"verbosity\": -1, \"metric\": \"rmse\"},\n",
    "                    feval=mean_absolute_error,\n",
    "                    train_set=train_dataset, valid_sets=(test_dataset,),\n",
    "                    num_boost_round=10)\n",
    "\n",
    "\n",
    "test_preds = booster.predict(X_test)\n",
    "train_preds = booster.predict(X_train)\n",
    "\n",
    "print(\"Test  R2 Score: %.2f\"%r2_score(Y_test, test_preds))\n",
    "print(\"Train R2 Score: %.2f\"%r2_score(Y_train, train_preds))"
   ]
  },
  {
   "cell_type": "code",
   "execution_count": 31,
   "metadata": {},
   "outputs": [
    {
     "name": "stdout",
     "output_type": "stream",
     "text": [
      "[1]\tvalid_0's rmse: 18.8867\n",
      "[2]\tvalid_0's rmse: 11.681\n",
      "[3]\tvalid_0's rmse: 5.62218\n",
      "[4]\tvalid_0's rmse: 3.7574\n",
      "[5]\tvalid_0's rmse: 3.46007\n",
      "[6]\tvalid_0's rmse: 3.43556\n",
      "[7]\tvalid_0's rmse: 3.33996\n",
      "[8]\tvalid_0's rmse: 3.66852\n",
      "[9]\tvalid_0's rmse: 3.87725\n",
      "[10]\tvalid_0's rmse: 3.89931\n",
      "Test  R2 Score : 0.80\n",
      "Train R2 Score : 0.93\n"
     ]
    }
   ],
   "source": [
    "from sklearn.model_selection import train_test_split\n",
    "\n",
    "X_train, X_test, Y_train, Y_test = train_test_split(boston.data, boston.target)\n",
    "booster = lgb.LGBMModel(objective=mean_sqaured_error, n_estimators=10,)\n",
    "booster.fit(X_train, Y_train,\n",
    "            eval_set=[(X_test, Y_test),], eval_metric=\"rmse\",\n",
    "            callbacks=[lgb.reset_parameter(learning_rate=np.linspace(0.1,1,10).tolist())])\n",
    "\n",
    "test_preds = booster.predict(X_test)\n",
    "train_preds = booster.predict(X_train)\n",
    "\n",
    "print(\"Test  R2 Score : %.2f\"%r2_score(Y_test, test_preds))\n",
    "print(\"Train R2 Score : %.2f\"%r2_score(Y_train, train_preds))"
   ]
  },
  {
   "cell_type": "code",
   "execution_count": null,
   "metadata": {},
   "outputs": [],
   "source": []
  }
 ],
 "metadata": {
  "kernelspec": {
   "display_name": "Python 3",
   "language": "python",
   "name": "python3"
  },
  "language_info": {
   "codemirror_mode": {
    "name": "ipython",
    "version": 3
   },
   "file_extension": ".py",
   "mimetype": "text/x-python",
   "name": "python",
   "nbconvert_exporter": "python",
   "pygments_lexer": "ipython3",
   "version": "3.8.5"
  }
 },
 "nbformat": 4,
 "nbformat_minor": 4
}
